{
 "cells": [
  {
   "cell_type": "markdown",
   "metadata": {},
   "source": [
    "#### 1. Створіть одновимірний масив (вектор) з першими 10-ма натуральними числами та виведіть його значення.\n"
   ]
  },
  {
   "cell_type": "code",
   "execution_count": 46,
   "metadata": {},
   "outputs": [
    {
     "data": {
      "text/plain": [
       "array([ 1,  2,  3,  4,  5,  6,  7,  8,  9, 10])"
      ]
     },
     "execution_count": 46,
     "metadata": {},
     "output_type": "execute_result"
    }
   ],
   "source": [
    "import numpy as np\n",
    "\n",
    "vector = np.arange(1, 11)\n",
    "vector"
   ]
  },
  {
   "cell_type": "markdown",
   "metadata": {},
   "source": [
    "#### 2. Створіть двовимірний масив (матрицю) розміром 3x3, заповніть його нулями та виведіть його значення."
   ]
  },
  {
   "cell_type": "code",
   "execution_count": 43,
   "metadata": {},
   "outputs": [
    {
     "data": {
      "text/plain": [
       "array([[0, 0, 0],\n",
       "       [0, 0, 0],\n",
       "       [0, 0, 0]])"
      ]
     },
     "execution_count": 43,
     "metadata": {},
     "output_type": "execute_result"
    }
   ],
   "source": [
    "A = np.zeros((3, 3), dtype=int)\n",
    "A"
   ]
  },
  {
   "cell_type": "markdown",
   "metadata": {},
   "source": [
    "#### 3. Створіть масив розміром 5x5, заповніть його випадковими цілими числами в діапазоні від 1 до 10 та виведіть його значення."
   ]
  },
  {
   "cell_type": "code",
   "execution_count": 42,
   "metadata": {},
   "outputs": [
    {
     "data": {
      "text/plain": [
       "array([[6, 4, 3, 8, 8],\n",
       "       [3, 6, 8, 6, 6],\n",
       "       [8, 2, 2, 8, 7],\n",
       "       [4, 7, 1, 3, 2],\n",
       "       [7, 2, 3, 9, 9]])"
      ]
     },
     "execution_count": 42,
     "metadata": {},
     "output_type": "execute_result"
    }
   ],
   "source": [
    "A = np.random.randint(1, 10, (5, 5))\n",
    "A"
   ]
  },
  {
   "cell_type": "markdown",
   "metadata": {},
   "source": [
    "#### 4. Створіть масив розміром 4x4, заповніть його випадковими дійсними числами в діапазоні від 0 до 1 та виведіть його значення."
   ]
  },
  {
   "cell_type": "code",
   "execution_count": 14,
   "metadata": {},
   "outputs": [
    {
     "data": {
      "text/plain": [
       "array([[0.20789093, 0.58801249, 0.6060514 , 0.5181521 ],\n",
       "       [0.93665992, 0.2120535 , 0.70705348, 0.57893308],\n",
       "       [0.87993982, 0.35037878, 0.06803882, 0.65522329],\n",
       "       [0.97583495, 0.67850774, 0.7850976 , 0.66130808]])"
      ]
     },
     "execution_count": 14,
     "metadata": {},
     "output_type": "execute_result"
    }
   ],
   "source": [
    "A = np.random.rand(4, 4)\n",
    "A"
   ]
  },
  {
   "cell_type": "markdown",
   "metadata": {},
   "source": [
    "#### 5. Створіть два одновимірних масиви розміром 5, заповніть їх випадковими цілими числами в діапазоні від 1 до 10 та виконайте на них поелементні операції додавання, віднімання та множення."
   ]
  },
  {
   "cell_type": "code",
   "execution_count": 21,
   "metadata": {},
   "outputs": [
    {
     "data": {
      "text/plain": [
       "(array([8, 3, 8, 4, 3]),\n",
       " array([10,  1,  3,  6,  9]),\n",
       " array([18,  4, 11, 10, 12]),\n",
       " array([-2,  2,  5, -2, -6]),\n",
       " array([80,  3, 24, 24, 27]))"
      ]
     },
     "execution_count": 21,
     "metadata": {},
     "output_type": "execute_result"
    }
   ],
   "source": [
    "vector_1 = np.random.randint(1, 11, (5))\n",
    "vector_2 = np.random.randint(1, 11, (5))\n",
    "\n",
    "\n",
    "plus = vector_1+vector_2\n",
    "minus = vector_1-vector_2\n",
    "mul = vector_1*vector_2\n",
    "\n",
    "vector_1, vector_2, plus, minus, mul"
   ]
  },
  {
   "cell_type": "markdown",
   "metadata": {},
   "source": [
    "#### 6. Створіть два вектори розміром 7, заповніть довільними числами та знайдіть їх скалярний добуток."
   ]
  },
  {
   "cell_type": "code",
   "execution_count": 41,
   "metadata": {},
   "outputs": [
    {
     "data": {
      "text/plain": [
       "(179, 179)"
      ]
     },
     "execution_count": 41,
     "metadata": {},
     "output_type": "execute_result"
    }
   ],
   "source": [
    "vector_1 = np.random.randint(1, 10, (7))\n",
    "vector_2 = np.random.randint(1, 10, (7))\n",
    "\n",
    "dot_product = vector_1@vector_2\n",
    "dot_product_1 = np.dot(vector_1, vector_2)\n",
    "\n",
    "dot_product, dot_product_1"
   ]
  },
  {
   "cell_type": "markdown",
   "metadata": {},
   "source": [
    "#### 7. Створіть дві матриці розміром 2x2 та 2x3, заповніть їх випадковими цілими числами в діапазоні від 1 до 10 та перемножте їх між собою."
   ]
  },
  {
   "cell_type": "code",
   "execution_count": 39,
   "metadata": {},
   "outputs": [
    {
     "data": {
      "text/plain": [
       "(array([[35, 36, 30],\n",
       "        [77, 86, 66]]),\n",
       " array([[ 2,  3],\n",
       "        [ 1, 10]]),\n",
       " array([[7, 6, 6],\n",
       "        [7, 8, 6]]))"
      ]
     },
     "execution_count": 39,
     "metadata": {},
     "output_type": "execute_result"
    }
   ],
   "source": [
    "matrix_A = np.random.randint(1, 11, (2, 2), dtype=int)\n",
    "matrix_B = np.random.randint(1, 11, (2, 3), dtype=int)\n",
    "\n",
    "mul = matrix_A@matrix_B\n",
    "mul, matrix_A, matrix_B"
   ]
  },
  {
   "cell_type": "markdown",
   "metadata": {},
   "source": [
    "#### 8. Створіть матрицю розміром 3x3, заповніть її випадковими цілими числами в діапазоні від 1 до 10 та знайдіть її обернену матрицю."
   ]
  },
  {
   "cell_type": "code",
   "execution_count": 49,
   "metadata": {},
   "outputs": [
    {
     "data": {
      "text/plain": [
       "array([[ 1.53846154e-01, -2.21153846e-01,  2.88461538e-02],\n",
       "       [-4.22367455e-18,  1.56250000e-01, -3.12500000e-02],\n",
       "       [-7.69230769e-02, -1.44230769e-02,  1.10576923e-01]])"
      ]
     },
     "execution_count": 49,
     "metadata": {},
     "output_type": "execute_result"
    }
   ],
   "source": [
    "\n",
    "M = np.random.randint(1, 11, (3, 3))\n",
    "\n",
    "inverse_M = np.linalg.inv(M)\n",
    "inverse_M"
   ]
  },
  {
   "cell_type": "markdown",
   "metadata": {},
   "source": [
    "#### 9. Створіть матрицю розміром 4x4, заповніть її випадковими дійсними числами в діапазоні від 0 до 1 та транспонуйте її."
   ]
  },
  {
   "cell_type": "code",
   "execution_count": 55,
   "metadata": {},
   "outputs": [
    {
     "data": {
      "text/plain": [
       "(array([[0.66045285, 0.92805371, 0.20245912, 0.77419013],\n",
       "        [0.49616584, 0.61237243, 0.40024607, 0.63922756],\n",
       "        [0.01019154, 0.2640525 , 0.19816147, 0.05269246],\n",
       "        [0.0516648 , 0.37997896, 0.79394354, 0.54690132]]),\n",
       " array([[0.66045285, 0.49616584, 0.01019154, 0.0516648 ],\n",
       "        [0.92805371, 0.61237243, 0.2640525 , 0.37997896],\n",
       "        [0.20245912, 0.40024607, 0.19816147, 0.79394354],\n",
       "        [0.77419013, 0.63922756, 0.05269246, 0.54690132]]))"
      ]
     },
     "execution_count": 55,
     "metadata": {},
     "output_type": "execute_result"
    }
   ],
   "source": [
    "M = np.random.rand(4, 4)\n",
    "\n",
    "T = M.T\n",
    "M, T"
   ]
  },
  {
   "cell_type": "markdown",
   "metadata": {},
   "source": [
    "#### 10. Створіть матрицю розміром 3x4 та вектор розміром 4, заповніть їх випадковими цілими числами в діапазоні від 1 до 10 та перемножте матрицю на вектор."
   ]
  },
  {
   "cell_type": "code",
   "execution_count": 56,
   "metadata": {},
   "outputs": [
    {
     "data": {
      "text/plain": [
       "array([107, 154, 148])"
      ]
     },
     "execution_count": 56,
     "metadata": {},
     "output_type": "execute_result"
    }
   ],
   "source": [
    "M = np.random.randint(1, 11, (3, 4))\n",
    "v = np.random.randint(1, 11, (4))\n",
    "\n",
    "M@v"
   ]
  },
  {
   "cell_type": "markdown",
   "metadata": {},
   "source": [
    "#### 11. Створіть матрицю розміром 2x3 та вектор розміром 3, заповніть їх випадковими дійсними числами в діапазоні від 0 до 1 та перемножте матрицю на вектор."
   ]
  },
  {
   "cell_type": "code",
   "execution_count": 57,
   "metadata": {},
   "outputs": [
    {
     "data": {
      "text/plain": [
       "array([0.73915127, 0.39982638])"
      ]
     },
     "execution_count": 57,
     "metadata": {},
     "output_type": "execute_result"
    }
   ],
   "source": [
    "M = np.random.rand(2, 3)\n",
    "v = np.random.rand(3)\n",
    "\n",
    "M@v"
   ]
  },
  {
   "cell_type": "markdown",
   "metadata": {},
   "source": [
    "#### 12. Створіть дві матриці розміром 2x2, заповніть їх випадковими цілими числами в діапазоні від 1 до 10 та виконайте їхнє поелементне множення."
   ]
  },
  {
   "cell_type": "code",
   "execution_count": 60,
   "metadata": {},
   "outputs": [
    {
     "data": {
      "text/plain": [
       "(array([[64, 45],\n",
       "        [ 2, 56]]),\n",
       " array([[ 73, 103],\n",
       "        [ 24,  66]]))"
      ]
     },
     "execution_count": 60,
     "metadata": {},
     "output_type": "execute_result"
    }
   ],
   "source": [
    "M = np.random.randint(1, 11, (2, 2))\n",
    "V = np.random.randint(1, 11, (2, 2))\n",
    "\n",
    "M*V"
   ]
  },
  {
   "cell_type": "markdown",
   "metadata": {},
   "source": [
    "#### 13. Створіть дві матриці розміром 2x2, заповніть їх випадковими цілими числами в діапазоні від 1 до 10 та знайдіть їх добуток."
   ]
  },
  {
   "cell_type": "code",
   "execution_count": 62,
   "metadata": {},
   "outputs": [
    {
     "data": {
      "text/plain": [
       "array([[10, 14],\n",
       "       [23, 43]])"
      ]
     },
     "execution_count": 62,
     "metadata": {},
     "output_type": "execute_result"
    }
   ],
   "source": [
    "M = np.random.randint(1, 11, (2, 2))\n",
    "V = np.random.randint(1, 11, (2, 2))\n",
    "\n",
    "M@V"
   ]
  },
  {
   "cell_type": "markdown",
   "metadata": {},
   "source": [
    "#### 14. Створіть матрицю розміром 5x5, заповніть її випадковими цілими числами в діапазоні від 1 до 100 та знайдіть суму елементів матриці."
   ]
  },
  {
   "cell_type": "code",
   "execution_count": 63,
   "metadata": {},
   "outputs": [
    {
     "data": {
      "text/plain": [
       "1177"
      ]
     },
     "execution_count": 63,
     "metadata": {},
     "output_type": "execute_result"
    }
   ],
   "source": [
    "M = np.random.randint(1, 101, (5, 5))\n",
    "\n",
    "sum_matrix = np.sum(M)\n",
    "sum_matrix"
   ]
  },
  {
   "cell_type": "markdown",
   "metadata": {},
   "source": [
    "#### 15. Створіть дві матриці розміром 4x4, заповніть їх випадковими цілими числами в діапазоні від 1 до 10 та знайдіть їхню різницю."
   ]
  },
  {
   "cell_type": "code",
   "execution_count": 66,
   "metadata": {},
   "outputs": [
    {
     "data": {
      "text/plain": [
       "array([[-4, -4,  4, -4],\n",
       "       [-1,  0,  5, -5],\n",
       "       [-1, -8, -3,  0],\n",
       "       [ 1,  6, -2, -3]])"
      ]
     },
     "execution_count": 66,
     "metadata": {},
     "output_type": "execute_result"
    }
   ],
   "source": [
    "M = np.random.randint(1, 11, (4, 4))\n",
    "V = np.random.randint(1, 11, (4, 4))\n",
    "\n",
    "M-V"
   ]
  },
  {
   "cell_type": "markdown",
   "metadata": {},
   "source": [
    "#### 16. Створіть матрицю розміром 3x3, заповніть її випадковими дійсними числами в діапазоні від 0 до 1 та знайдіть вектор-стовпчик, що містить суму елементів кожного рядка матриці."
   ]
  },
  {
   "cell_type": "code",
   "execution_count": 79,
   "metadata": {},
   "outputs": [
    {
     "data": {
      "text/plain": [
       "array([[1.64717683],\n",
       "       [1.26495492],\n",
       "       [0.91477589]])"
      ]
     },
     "execution_count": 79,
     "metadata": {},
     "output_type": "execute_result"
    }
   ],
   "source": [
    "M = np.random.rand(3, 3)\n",
    "\n",
    "row_sum = np.sum(M, axis=1)\n",
    "\n",
    "vector_sum = row_sum.reshape(-1, 1)\n",
    "vector_sum"
   ]
  },
  {
   "cell_type": "markdown",
   "metadata": {},
   "source": [
    "#### 17. Створіть матрицю розміром 3x4 з довільними цілими числами і створінь матрицю з квадратами цих чисел."
   ]
  },
  {
   "cell_type": "code",
   "execution_count": 82,
   "metadata": {},
   "outputs": [
    {
     "data": {
      "text/plain": [
       "array([[36, 49, 36,  9],\n",
       "       [49, 16,  9, 49],\n",
       "       [49, 81, 64, 81]])"
      ]
     },
     "execution_count": 82,
     "metadata": {},
     "output_type": "execute_result"
    }
   ],
   "source": [
    "M = np.random.randint(1, 11, (3, 4))\n",
    "\n",
    "squared_matrix = M**2\n",
    "\n",
    "squared_matrix"
   ]
  },
  {
   "cell_type": "markdown",
   "metadata": {},
   "source": [
    "#### 18. Створіть вектор розміром 4, заповніть його випадковими цілими числами в діапазоні від 1 до 50 та знайдіть вектор з квадратними коренями цих чисел."
   ]
  },
  {
   "cell_type": "code",
   "execution_count": 86,
   "metadata": {},
   "outputs": [
    {
     "data": {
      "text/plain": [
       "array([4.12310563, 5.47722558, 6.4807407 , 6.8556546 ])"
      ]
     },
     "execution_count": 86,
     "metadata": {},
     "output_type": "execute_result"
    }
   ],
   "source": [
    "M = np.random.randint(1, 51, (4))\n",
    "\n",
    "M_sqrt = np.sqrt(M)\n",
    "M_sqrt"
   ]
  }
 ],
 "metadata": {
  "kernelspec": {
   "display_name": "test",
   "language": "python",
   "name": "python3"
  },
  "language_info": {
   "codemirror_mode": {
    "name": "ipython",
    "version": 3
   },
   "file_extension": ".py",
   "mimetype": "text/x-python",
   "name": "python",
   "nbconvert_exporter": "python",
   "pygments_lexer": "ipython3",
   "version": "3.12.3"
  },
  "orig_nbformat": 4
 },
 "nbformat": 4,
 "nbformat_minor": 2
}
